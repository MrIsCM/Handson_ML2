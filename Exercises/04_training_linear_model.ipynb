{
 "cells": [
  {
   "cell_type": "markdown",
   "metadata": {},
   "source": [
    "# Task:\n",
    "\n",
    "- Implement batch gradient descent with early stopping for softmax regression without using Scikit-Learn, only NumPy. Use it on a classification task such as the iris dataset."
   ]
  },
  {
   "cell_type": "markdown",
   "metadata": {},
   "source": [
    "## Softmax Regression\n",
    "\n",
    "Generalization of *Logistic Regression* to support multiple classes. \n",
    "\n",
    "Given an instance `x`, the model computes a score $s_k(x)$ for each class `k`, then estimates the probability of each class applying the *softmax function* (normalized exponential) to the scores.\n",
    "\n",
    "The equation to compute $s_k(x)$ is:\n",
    "\n",
    "$$\n",
    "s_k(x) = \\left( \\theta^{(k)} \\right)^T  x\n",
    "$$\n",
    "\n",
    "Where:\n",
    "- $s_k(x)$ is the score of class `k` for instance `x`\n",
    "- $\\Theta$ is the parameter matrix where each row represents the parameter vector of class `k`\n",
    "\n",
    "Once we have every class score (also called *logits* or *log-odds*) for the instance `x`, we estimate the porbability $\\hat{p}_k$ of the instance belonging to class `k` using the softmax function:\n",
    "\n",
    "$$\n",
    "\\hat{p}_k = \\sigma(s(x))_k = \\frac{ \\exp(s_k(x)) }{ \\sum_{j=1}^{K} \\exp(s_j(x)) }\n",
    "$$\n",
    "\n",
    "Where:\n",
    "- $K$ is the number of classes\n",
    "- $s(x)$ is a vector containing the scores of each class for the instance `x`\n",
    "- $\\sigma(s(x))_k$ is the estimated probability that the instance `x` belongs to class `k`\n",
    "\n",
    "Now, the prediction $\\hat{y}$ is the class with the highest estimated probability:\n",
    "\n",
    "$$\n",
    "\\hat{y} = \\underset{k}{\\text{argmax}} \\, \\sigma(s(x))_k = \\underset{k}{\\text{argmax}} \\, s_k(x) = \\underset{k}{\\text{argmax}} \\, \\left( \\theta^{(k)} \\right)^T  x\n",
    "$$"
   ]
  },
  {
   "cell_type": "markdown",
   "metadata": {},
   "source": [
    "## Analysis of the problem\n",
    "\n",
    "**Using only NumPy**\n",
    "\n",
    "1. Load the iris dataset\n",
    "1. Divide into train, test and validation sets\n",
    "1. Scale the data\n",
    "1. Implement the softmax regression model\n",
    "1. Implement the batch gradient descent algorithm\n",
    "1. Implement early stopping\n",
    "1. Train the model\n",
    "1. Evaluate the model"
   ]
  },
  {
   "cell_type": "code",
   "execution_count": 2,
   "metadata": {},
   "outputs": [],
   "source": [
    "import numpy as np\n",
    "\n",
    "# Scikit-learn just to load the data\n",
    "from sklearn.datasets import load_iris"
   ]
  },
  {
   "cell_type": "code",
   "execution_count": 98,
   "metadata": {},
   "outputs": [],
   "source": [
    "import sys\n",
    "import os\n",
    "# Add the parent directory to the Python path\n",
    "sys.path.append(os.path.abspath(os.path.join('..', 'MyClasses')))\n",
    "\n",
    "# Import the class from the other directory\n",
    "import ProcessData"
   ]
  },
  {
   "cell_type": "code",
   "execution_count": 67,
   "metadata": {},
   "outputs": [],
   "source": [
    "iris= load_iris()"
   ]
  },
  {
   "cell_type": "code",
   "execution_count": 68,
   "metadata": {},
   "outputs": [
    {
     "name": "stdout",
     "output_type": "stream",
     "text": [
      ".. _iris_dataset:\n",
      "\n",
      "Iris plants dataset\n",
      "--------------------\n",
      "\n",
      "**Data Set Characteristics:**\n",
      "\n",
      ":Number of Instances: 150 (50 in each of three classes)\n",
      ":Number of Attributes: 4 numeric, predictive attributes and the class\n",
      ":Attribute Information:\n",
      "    - sepal length in cm\n",
      "    - sepal width in cm\n",
      "    - petal length in cm\n",
      "    - petal width in cm\n",
      "    - class:\n",
      "            - Iris-Setosa\n",
      "            - Iris-Versicolour\n",
      "            - Iris-Virginica\n",
      "\n",
      ":Summary Statistics:\n",
      "\n",
      "============== ==== ==== ======= ===== ====================\n",
      "                Min  Max   Mean    SD   Class Correlation\n",
      "============== ==== ==== ======= ===== ====================\n",
      "sepal length:   4.3  7.9   5.84   0.83    0.7826\n",
      "sepal width:    2.0  4.4   3.05   0.43   -0.4194\n",
      "petal length:   1.0  6.9   3.76   1.76    0.9490  (high!)\n",
      "petal width:    0.1  2.5   1.20   0.76    0.9565  (high!)\n",
      "============== ==== ==== ======= ===== ====================\n",
      "\n",
      ":Missing Attribute Values: None\n",
      ":Class Distribution: 33.3% for each of 3 classes.\n",
      ":Creator: R.A. Fisher\n",
      ":Donor: Michael Marshall (MARSHALL%PLU@io.arc.nasa.gov)\n",
      ":Date: July, 1988\n",
      "\n",
      "The famous Iris database, first used by Sir R.A. Fisher. The dataset is taken\n",
      "from Fisher's paper. Note that it's the same as in R, but not as in the UCI\n",
      "Machine Learning Repository, which has two wrong data points.\n",
      "\n",
      "This is perhaps the best known database to be found in the\n",
      "pattern recognition literature.  Fisher's paper is a classic in the field and\n",
      "is referenced frequently to this day.  (See Duda & Hart, for example.)  The\n",
      "data set contains 3 classes of 50 instances each, where each class refers to a\n",
      "type of iris plant.  One class is linearly separable from the other 2; the\n",
      "latter are NOT linearly separable from each other.\n",
      "\n",
      ".. dropdown:: References\n",
      "\n",
      "  - Fisher, R.A. \"The use of multiple measurements in taxonomic problems\"\n",
      "    Annual Eugenics, 7, Part II, 179-188 (1936); also in \"Contributions to\n",
      "    Mathematical Statistics\" (John Wiley, NY, 1950).\n",
      "  - Duda, R.O., & Hart, P.E. (1973) Pattern Classification and Scene Analysis.\n",
      "    (Q327.D83) John Wiley & Sons.  ISBN 0-471-22361-1.  See page 218.\n",
      "  - Dasarathy, B.V. (1980) \"Nosing Around the Neighborhood: A New System\n",
      "    Structure and Classification Rule for Recognition in Partially Exposed\n",
      "    Environments\".  IEEE Transactions on Pattern Analysis and Machine\n",
      "    Intelligence, Vol. PAMI-2, No. 1, 67-71.\n",
      "  - Gates, G.W. (1972) \"The Reduced Nearest Neighbor Rule\".  IEEE Transactions\n",
      "    on Information Theory, May 1972, 431-433.\n",
      "  - See also: 1988 MLC Proceedings, 54-64.  Cheeseman et al\"s AUTOCLASS II\n",
      "    conceptual clustering system finds 3 classes in the data.\n",
      "  - Many, many more ...\n",
      "\n"
     ]
    }
   ],
   "source": [
    "print(iris.DESCR)"
   ]
  },
  {
   "cell_type": "code",
   "execution_count": 72,
   "metadata": {},
   "outputs": [],
   "source": [
    "# Split the data into features and labels\n",
    "X = iris.data\n",
    "y = iris.target"
   ]
  },
  {
   "cell_type": "code",
   "execution_count": 126,
   "metadata": {},
   "outputs": [],
   "source": [
    "# Process using my class\n",
    "def preprocess(X, y):\n",
    "\tpd = ProcessData.ProcessData()\n",
    "\n",
    "\t# Scale the features (normalize)\n",
    "\tX_p = pd.normalize(X)\n",
    "\n",
    "\t# The dummy feature is a column of ones to account for the bias term\n",
    "\t# Done *after* scaling\n",
    "\tX_p = pd.add_dummy(X_p)\n",
    "\n",
    "\t# One-hot encode the labels\n",
    "\t# Labels are a probaility 1 for their class, 0 for the others \n",
    "\ty_p = pd.one_hot_encoder(y)\n",
    "\n",
    "\treturn X_p, y_p\n",
    "\n",
    "X_p, y_p = preprocess(X, y)"
   ]
  },
  {
   "cell_type": "code",
   "execution_count": 127,
   "metadata": {},
   "outputs": [
    {
     "data": {
      "text/plain": [
       "((150, 5), (150, 3))"
      ]
     },
     "execution_count": 127,
     "metadata": {},
     "output_type": "execute_result"
    }
   ],
   "source": [
    "X_p.shape, y_p.shape"
   ]
  },
  {
   "cell_type": "code",
   "execution_count": 129,
   "metadata": {},
   "outputs": [
    {
     "ename": "IndexError",
     "evalue": "index 125 is out of bounds for axis 0 with size 120",
     "output_type": "error",
     "traceback": [
      "\u001b[1;31m---------------------------------------------------------------------------\u001b[0m",
      "\u001b[1;31mIndexError\u001b[0m                                Traceback (most recent call last)",
      "Cell \u001b[1;32mIn[129], line 4\u001b[0m\n\u001b[0;32m      1\u001b[0m processor \u001b[38;5;241m=\u001b[39m ProcessData\u001b[38;5;241m.\u001b[39mProcessData()\n\u001b[0;32m      3\u001b[0m \u001b[38;5;66;03m# Split the data into training and testing sets\u001b[39;00m\n\u001b[1;32m----> 4\u001b[0m X_train, X_test, y_train, y_test \u001b[38;5;241m=\u001b[39m \u001b[43mprocessor\u001b[49m\u001b[38;5;241;43m.\u001b[39;49m\u001b[43msplit_data\u001b[49m\u001b[43m(\u001b[49m\u001b[43mX_p\u001b[49m\u001b[43m,\u001b[49m\u001b[43m \u001b[49m\u001b[43my_p\u001b[49m\u001b[43m)\u001b[49m\n",
      "File \u001b[1;32mc:\\Users\\Denis\\Desktop\\Ismael\\Coding\\Python\\Handson_ML2\\MyClasses\\ProcessData.py:36\u001b[0m, in \u001b[0;36mProcessData.split_data\u001b[1;34m(self, X, y, test_ratio, val_ratio, random_state)\u001b[0m\n\u001b[0;32m     34\u001b[0m test_size \u001b[38;5;241m=\u001b[39m \u001b[38;5;28mint\u001b[39m(total_size\u001b[38;5;241m*\u001b[39mtest_ratio)\n\u001b[0;32m     35\u001b[0m test_idxs \u001b[38;5;241m=\u001b[39m shuffled_idxs[\u001b[38;5;241m-\u001b[39mtest_size:]\n\u001b[1;32m---> 36\u001b[0m X_test, y_test \u001b[38;5;241m=\u001b[39m \u001b[43mX\u001b[49m\u001b[43m[\u001b[49m\u001b[43mtest_idxs\u001b[49m\u001b[43m]\u001b[49m, y[test_idxs]\n\u001b[0;32m     38\u001b[0m train_idxs \u001b[38;5;241m=\u001b[39m shuffled_idxs[:\u001b[38;5;241m-\u001b[39mtest_size]\n\u001b[0;32m     39\u001b[0m X_train, y_train \u001b[38;5;241m=\u001b[39m X[train_idxs], y[train_idxs]\n",
      "\u001b[1;31mIndexError\u001b[0m: index 125 is out of bounds for axis 0 with size 120"
     ]
    }
   ],
   "source": [
    "processor = ProcessData.ProcessData()\n",
    "\n",
    "# Split the data into training and testing sets\n",
    "X_train, X_test, y_train, y_test = processor.split_data(X_p, y_p)"
   ]
  },
  {
   "cell_type": "code",
   "execution_count": 99,
   "metadata": {},
   "outputs": [],
   "source": [
    "def process_split(X, y, test_ratio=0.2, val_ratio=0.2, random_state=42):\n",
    "\tX, y = preprocess(X, y)\n",
    "\tpd = ProcessData.ProcessData()\n",
    "\n",
    "\tX_train, y_train, X_val, y_val, X_test, y_test = pd.split_data(X, y, test_ratio=test_ratio,\n",
    "\t\t\t\t\t\t\t\t\t\t\t\t\t\t\t\tval_ratio=val_ratio, random_state=random_state)\n",
    "\t\n",
    "\treturn X_train, y_train, X_val, y_val, X_test, y_test"
   ]
  },
  {
   "cell_type": "code",
   "execution_count": null,
   "metadata": {},
   "outputs": [],
   "source": [
    "def softmax(logits):\n",
    "\texp = np.exp(logits)\n",
    "\texp_sum = np.sum(exp, axis=1, keepdims=True)\n",
    "\treturn exp / exp_sum\n",
    "\n",
    "def cross_entropy_loss(y_k, p_k):\n",
    "\tm = len(y_k)\n",
    "\tJ = -1/m * np.sum(y_k * np.log(p_k))\n",
    "\t"
   ]
  }
 ],
 "metadata": {
  "kernelspec": {
   "display_name": "Python 3",
   "language": "python",
   "name": "python3"
  },
  "language_info": {
   "codemirror_mode": {
    "name": "ipython",
    "version": 3
   },
   "file_extension": ".py",
   "mimetype": "text/x-python",
   "name": "python",
   "nbconvert_exporter": "python",
   "pygments_lexer": "ipython3",
   "version": "3.12.1"
  }
 },
 "nbformat": 4,
 "nbformat_minor": 2
}
