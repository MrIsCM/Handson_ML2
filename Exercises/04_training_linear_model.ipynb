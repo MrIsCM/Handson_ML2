{
 "cells": [
  {
   "cell_type": "markdown",
   "metadata": {},
   "source": [
    "# Task:\n",
    "\n",
    "- Implement batch gradient descent with early stopping for softmax regression without using Scikit-Learn, only NumPy. Use it on a classification task such as the iris dataset."
   ]
  },
  {
   "cell_type": "markdown",
   "metadata": {},
   "source": [
    "## Softmax Regression\n",
    "\n",
    "Generalization of *Logistic Regression* to support multiple classes. \n",
    "\n",
    "Given an instance `x`, the model computes a score $s_k(x)$ for each class `k`, then estimates the probability of each class applying the *softmax function* (normalized exponential) to the scores.\n",
    "\n",
    "The equation to compute $s_k(x)$ is:\n",
    "\n",
    "$$\n",
    "s_k(x) = \\left( \\theta^{(k)} \\right)^T  x\n",
    "$$\n",
    "\n",
    "Where:\n",
    "- $s_k(x)$ is the score of class `k` for instance `x`\n",
    "- $\\Theta$ is the parameter matrix where each row represents the parameter vector of class `k`\n",
    "\n",
    "Once we have every class score (also called *logits* or *log-odds*) for the instance `x`, we estimate the porbability $\\hat{p}_k$ of the instance belonging to class `k` using the softmax function:\n",
    "\n",
    "$$\n",
    "\\hat{p}_k = \\sigma(s(x))_k = \\frac{ \\exp(s_k(x)) }{ \\sum_{j=1}^{K} \\exp(s_j(x)) }\n",
    "$$\n",
    "\n",
    "Where:\n",
    "- $K$ is the number of classes\n",
    "- $s(x)$ is a vector containing the scores of each class for the instance `x`\n",
    "- $\\sigma(s(x))_k$ is the estimated probability that the instance `x` belongs to class `k`\n",
    "\n",
    "Now, the prediction $\\hat{y}$ is the class with the highest estimated probability:\n",
    "\n",
    "$$\n",
    "\\hat{y} = \\underset{k}{\\text{argmax}} \\, \\sigma(s(x))_k = \\underset{k}{\\text{argmax}} \\, s_k(x) = \\underset{k}{\\text{argmax}} \\, \\left( \\theta^{(k)} \\right)^T  x\n",
    "$$"
   ]
  },
  {
   "cell_type": "markdown",
   "metadata": {},
   "source": [
    "## Analysis of the problem\n",
    "\n",
    "**Using only NumPy**\n",
    "\n",
    "1. Load the iris dataset\n",
    "1. Divide into train, test and validation sets\n",
    "1. Scale the data\n",
    "1. Implement the softmax regression model\n",
    "1. Implement the batch gradient descent algorithm\n",
    "1. Implement early stopping\n",
    "1. Train the model\n",
    "1. Evaluate the model"
   ]
  },
  {
   "cell_type": "code",
   "execution_count": 1,
   "metadata": {},
   "outputs": [],
   "source": [
    "import numpy as np\n",
    "\n",
    "# Scikit-learn just to load the data\n",
    "from sklearn.datasets import load_iris"
   ]
  },
  {
   "cell_type": "code",
   "execution_count": 2,
   "metadata": {},
   "outputs": [],
   "source": [
    "import sys\n",
    "import os\n",
    "# Add the parent directory to the Python path\n",
    "sys.path.append(os.path.abspath(os.path.join('..', 'MyClasses')))\n",
    "\n",
    "# Import the class from the other directory\n",
    "import ProcessData as pdata"
   ]
  },
  {
   "cell_type": "code",
   "execution_count": 3,
   "metadata": {},
   "outputs": [],
   "source": [
    "iris= load_iris()"
   ]
  },
  {
   "cell_type": "code",
   "execution_count": 4,
   "metadata": {},
   "outputs": [
    {
     "name": "stdout",
     "output_type": "stream",
     "text": [
      ".. _iris_dataset:\n",
      "\n",
      "Iris plants dataset\n",
      "--------------------\n",
      "\n",
      "**Data Set Characteristics:**\n",
      "\n",
      ":Number of Instances: 150 (50 in each of three classes)\n",
      ":Number of Attributes: 4 numeric, predictive attributes and the class\n",
      ":Attribute Information:\n",
      "    - sepal length in cm\n",
      "    - sepal width in cm\n",
      "    - petal length in cm\n",
      "    - petal width in cm\n",
      "    - class:\n",
      "            - Iris-Setosa\n",
      "            - Iris-Versicolour\n",
      "            - Iris-Virginica\n",
      "\n",
      ":Summary Statistics:\n",
      "\n",
      "============== ==== ==== ======= ===== ====================\n",
      "                Min  Max   Mean    SD   Class Correlation\n",
      "============== ==== ==== ======= ===== ====================\n",
      "sepal length:   4.3  7.9   5.84   0.83    0.7826\n",
      "sepal width:    2.0  4.4   3.05   0.43   -0.4194\n",
      "petal length:   1.0  6.9   3.76   1.76    0.9490  (high!)\n",
      "petal width:    0.1  2.5   1.20   0.76    0.9565  (high!)\n",
      "============== ==== ==== ======= ===== ====================\n",
      "\n",
      ":Missing Attribute Values: None\n",
      ":Class Distribution: 33.3% for each of 3 classes.\n",
      ":Creator: R.A. Fisher\n",
      ":Donor: Michael Marshall (MARSHALL%PLU@io.arc.nasa.gov)\n",
      ":Date: July, 1988\n",
      "\n",
      "The famous Iris database, first used by Sir R.A. Fisher. The dataset is taken\n",
      "from Fisher's paper. Note that it's the same as in R, but not as in the UCI\n",
      "Machine Learning Repository, which has two wrong data points.\n",
      "\n",
      "This is perhaps the best known database to be found in the\n",
      "pattern recognition literature.  Fisher's paper is a classic in the field and\n",
      "is referenced frequently to this day.  (See Duda & Hart, for example.)  The\n",
      "data set contains 3 classes of 50 instances each, where each class refers to a\n",
      "type of iris plant.  One class is linearly separable from the other 2; the\n",
      "latter are NOT linearly separable from each other.\n",
      "\n",
      ".. dropdown:: References\n",
      "\n",
      "  - Fisher, R.A. \"The use of multiple measurements in taxonomic problems\"\n",
      "    Annual Eugenics, 7, Part II, 179-188 (1936); also in \"Contributions to\n",
      "    Mathematical Statistics\" (John Wiley, NY, 1950).\n",
      "  - Duda, R.O., & Hart, P.E. (1973) Pattern Classification and Scene Analysis.\n",
      "    (Q327.D83) John Wiley & Sons.  ISBN 0-471-22361-1.  See page 218.\n",
      "  - Dasarathy, B.V. (1980) \"Nosing Around the Neighborhood: A New System\n",
      "    Structure and Classification Rule for Recognition in Partially Exposed\n",
      "    Environments\".  IEEE Transactions on Pattern Analysis and Machine\n",
      "    Intelligence, Vol. PAMI-2, No. 1, 67-71.\n",
      "  - Gates, G.W. (1972) \"The Reduced Nearest Neighbor Rule\".  IEEE Transactions\n",
      "    on Information Theory, May 1972, 431-433.\n",
      "  - See also: 1988 MLC Proceedings, 54-64.  Cheeseman et al\"s AUTOCLASS II\n",
      "    conceptual clustering system finds 3 classes in the data.\n",
      "  - Many, many more ...\n",
      "\n"
     ]
    }
   ],
   "source": [
    "print(iris.DESCR)"
   ]
  },
  {
   "cell_type": "code",
   "execution_count": 5,
   "metadata": {},
   "outputs": [],
   "source": [
    "# Split the data into features and labels\n",
    "X = iris.data\n",
    "y = iris.target"
   ]
  },
  {
   "cell_type": "code",
   "execution_count": 6,
   "metadata": {},
   "outputs": [],
   "source": [
    "# Process using my class\n",
    "def preprocess(X, y):\n",
    "\tpd = pdata.ProcessData()\n",
    "\n",
    "\t# Scale the features (normalize)\n",
    "\tX_normalized = pd.normalize(X)\n",
    "\n",
    "\t# The dummy feature is a column of ones to account for the bias term\n",
    "\t# Done *after* scaling\n",
    "\tX_norm_dummy = pd.add_dummy(X_normalized)\n",
    "\n",
    "\t# One-hot encode the labels\n",
    "\t# Labels are a probaility 1 for their class, 0 for the others \n",
    "\ty_one_hot = pd.one_hot_encoder(y)\n",
    "\n",
    "\treturn X_norm_dummy, y_one_hot"
   ]
  },
  {
   "cell_type": "code",
   "execution_count": 7,
   "metadata": {},
   "outputs": [],
   "source": [
    "def process_split(X, y, test_ratio=0.2, val_ratio=0.2, random_state=42):\n",
    "\tX_processed, y_processed = preprocess(X, y)\n",
    "\tpd = pdata.ProcessData()\n",
    "\n",
    "\tX_train, y_train, X_val, y_val, X_test, y_test = pd.split_data(\n",
    "\t\tX_processed, y_processed,\n",
    "\t\ttest_ratio=test_ratio,\n",
    "\t\tval_ratio=val_ratio,\n",
    "\t\trandom_state=random_state\n",
    "\t\t)\n",
    "\t\n",
    "\treturn X_train, y_train, X_val, y_val, X_test, y_test"
   ]
  },
  {
   "cell_type": "code",
   "execution_count": 19,
   "metadata": {},
   "outputs": [],
   "source": [
    "X_train, y_train, X_val, y_val, X_test, y_test = process_split(X, y)"
   ]
  },
  {
   "cell_type": "markdown",
   "metadata": {},
   "source": [
    "## Softmax Function\n",
    "\n",
    "$\n",
    "\\sigma(s(x))_k = \\frac{ \\exp(s_k(x)) }{ \\sum_{j=1}^{K} \\exp(s_j(x)) }\n",
    "$"
   ]
  },
  {
   "cell_type": "code",
   "execution_count": 9,
   "metadata": {},
   "outputs": [],
   "source": [
    "def softmax(logits):\n",
    "\texp = np.exp(logits)\n",
    "\texp_sum = np.sum(exp, axis=1, keepdims=True)\n",
    "\treturn exp / exp_sum"
   ]
  },
  {
   "cell_type": "code",
   "execution_count": 20,
   "metadata": {},
   "outputs": [
    {
     "data": {
      "text/plain": [
       "(5, 3)"
      ]
     },
     "execution_count": 20,
     "metadata": {},
     "output_type": "execute_result"
    }
   ],
   "source": [
    "n_inputs = X_train.shape[1]\n",
    "n_outputs = np.unique(y).shape[0]\n",
    "n_inputs, n_outputs"
   ]
  },
  {
   "cell_type": "code",
   "execution_count": 34,
   "metadata": {},
   "outputs": [],
   "source": [
    "def training_phase(X_train, y_train, X_val, y_val, eta, n_epochs, epsilon, alpha,\n",
    "\t\t\t\t   Theta=None, theta_path_param=0.1, n_prints=10, random_state=42):\n",
    "\n",
    "\t# Some parameters\n",
    "\tm = len(X_train)\n",
    "\tdivisor = n_epochs // n_prints\n",
    "\n",
    "\t# Theta path\n",
    "\ttheta_path = []\n",
    "\n",
    "\t# Initial state\n",
    "\tif Theta is None:\n",
    "\t\tnp.random.seed(random_state)\n",
    "\t\tTheta = np.random.randn(n_inputs, n_outputs)\n",
    "\n",
    "\t# Training loop\n",
    "\tfor epoch in range(n_epochs):\n",
    "\n",
    "\t\t# Register the thetas\n",
    "\t\tif epoch % int(n_epochs * theta_path_param) == 0:\n",
    "\t\t\ttheta_path.append(Theta)\n",
    "\t\t\n",
    "\t\tlogits = X_train.dot(Theta)\n",
    "\t\tY_proba = softmax(logits)\n",
    "\t\t# Print the cross entropy loss every 1/n_prints% of the epochs\n",
    "\t\tif epoch % divisor == 0:\n",
    "\t\t\tY_proba_val = softmax(X_val.dot(Theta))\n",
    "\t\t\tl2_loss = 1/2 * np.square(Theta[1:]).sum()\n",
    "\t\t\tcross_entropy_loss = -(Y_proba_val*np.log(Y_proba_val + epsilon)).sum(axis=1).mean()\n",
    "\t\t\ttotal_loss = cross_entropy_loss + alpha * l2_loss\n",
    "\t\t\tprint(epoch, total_loss)\n",
    "\n",
    "\t\terror = Y_proba - y_train\n",
    "\t\tgradient = 1/m * X_train.T.dot(error)\n",
    "\t\t# L2 regularization\n",
    "\t\tgradient += np.r_[np.zeros([1, n_outputs]), alpha * Theta[1:]] \n",
    "\t\tTheta = Theta - eta * gradient\n",
    "\n",
    "\treturn Theta, theta_path"
   ]
  },
  {
   "cell_type": "code",
   "execution_count": 12,
   "metadata": {},
   "outputs": [
    {
     "name": "stdout",
     "output_type": "stream",
     "text": [
      "0 0.479975814211785\n",
      "100000 0.018557923360427105\n",
      "200000 0.014264666944663964\n",
      "300000 0.012280822049746414\n",
      "400000 0.010954423221552292\n",
      "500000 0.009941804902850956\n",
      "600000 0.00911957399585182\n",
      "700000 0.00842806494689668\n",
      "800000 0.007832990821644252\n",
      "900000 0.007312427965791503\n",
      "1000000 0.006851331425348677\n"
     ]
    }
   ],
   "source": [
    "eta = 0.5\n",
    "n_epochs = 1000001\n",
    "epsilon = 1e-7\n",
    "\n",
    "\n",
    "Theta, theta_path = training_phase(X_train, y_train, X_val, y_val, eta, n_epochs, epsilon)"
   ]
  },
  {
   "cell_type": "code",
   "execution_count": 13,
   "metadata": {},
   "outputs": [],
   "source": [
    "def predict(X, Theta):\n",
    "\tlogits = X.dot(Theta)\n",
    "\tY_proba = softmax(logits)\n",
    "\ty_pred = Y_proba.argmax(axis=1)\n",
    "\treturn y_pred"
   ]
  },
  {
   "cell_type": "code",
   "execution_count": 16,
   "metadata": {},
   "outputs": [],
   "source": [
    "def acurracy(y, y_pred):\n",
    "\treturn np.mean(y == y_pred)"
   ]
  },
  {
   "cell_type": "code",
   "execution_count": 24,
   "metadata": {},
   "outputs": [],
   "source": [
    "pd = pdata.ProcessData()\n",
    "# Using the validation dataset\n",
    "y_pred = predict(X_test, Theta)\n",
    "y_test_decoded = pd.one_hot_decoder(y_test)\n",
    "accurracy_score = acurracy(y_test_decoded, y_pred)"
   ]
  },
  {
   "cell_type": "code",
   "execution_count": 25,
   "metadata": {},
   "outputs": [
    {
     "data": {
      "text/plain": [
       "0.9666666666666667"
      ]
     },
     "execution_count": 25,
     "metadata": {},
     "output_type": "execute_result"
    }
   ],
   "source": [
    "accurracy_score"
   ]
  },
  {
   "cell_type": "code",
   "execution_count": 35,
   "metadata": {},
   "outputs": [
    {
     "name": "stdout",
     "output_type": "stream",
     "text": [
      "0 0.5457413310462084\n",
      "100000 0.4099727321521387\n",
      "200000 0.4099727321521387\n",
      "300000 0.4099727321521387\n",
      "400000 0.4099727321521387\n",
      "500000 0.4099727321521387\n",
      "600000 0.4099727321521387\n",
      "700000 0.4099727321521387\n",
      "800000 0.4099727321521387\n",
      "900000 0.4099727321521387\n",
      "1000000 0.4099727321521387\n"
     ]
    }
   ],
   "source": [
    "eta = 0.5\n",
    "n_epochs = 1000001\n",
    "epsilon = 1e-7\n",
    "alpha = 0.01\n",
    "\n",
    "Theta_reg, theta_path_reg = training_phase(X_train, y_train, X_val, y_val, eta, n_epochs, epsilon, alpha)"
   ]
  },
  {
   "cell_type": "code",
   "execution_count": 36,
   "metadata": {},
   "outputs": [
    {
     "data": {
      "text/plain": [
       "array([[ 0.05437073,  2.14354377, -1.19177611],\n",
       "       [-0.9572536 ,  0.51685915,  0.44039445],\n",
       "       [ 1.02318294, -0.34643789, -0.67674506],\n",
       "       [-1.72396977, -0.26025226,  1.98422203],\n",
       "       [-1.61520643, -0.71803684,  2.33324326]])"
      ]
     },
     "execution_count": 36,
     "metadata": {},
     "output_type": "execute_result"
    }
   ],
   "source": [
    "Theta_reg"
   ]
  },
  {
   "cell_type": "code",
   "execution_count": 40,
   "metadata": {},
   "outputs": [
    {
     "data": {
      "text/plain": [
       "0.9666666666666667"
      ]
     },
     "execution_count": 40,
     "metadata": {},
     "output_type": "execute_result"
    }
   ],
   "source": [
    "y_pred_reg = predict(X_test, Theta_reg)\n",
    "acurracy_score_reg = acurracy(y_test_decoded, y_pred_reg)\n",
    "\n",
    "acurracy_score_reg"
   ]
  }
 ],
 "metadata": {
  "kernelspec": {
   "display_name": "Python 3",
   "language": "python",
   "name": "python3"
  },
  "language_info": {
   "codemirror_mode": {
    "name": "ipython",
    "version": 3
   },
   "file_extension": ".py",
   "mimetype": "text/x-python",
   "name": "python",
   "nbconvert_exporter": "python",
   "pygments_lexer": "ipython3",
   "version": "3.12.1"
  }
 },
 "nbformat": 4,
 "nbformat_minor": 2
}
